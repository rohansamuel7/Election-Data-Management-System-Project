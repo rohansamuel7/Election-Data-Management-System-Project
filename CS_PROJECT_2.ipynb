{
  "nbformat": 4,
  "nbformat_minor": 0,
  "metadata": {
    "colab": {
      "provenance": [],
      "include_colab_link": true
    },
    "kernelspec": {
      "name": "python3",
      "display_name": "Python 3"
    },
    "language_info": {
      "name": "python"
    }
  },
  "cells": [
    {
      "cell_type": "markdown",
      "metadata": {
        "id": "view-in-github",
        "colab_type": "text"
      },
      "source": [
        "<a href=\"https://colab.research.google.com/github/rohansamuel7/Election-Data-Management-System-Project/blob/main/CS_PROJECT_2.ipynb\" target=\"_parent\"><img src=\"https://colab.research.google.com/assets/colab-badge.svg\" alt=\"Open In Colab\"/></a>"
      ]
    },
    {
      "cell_type": "markdown",
      "source": [
        "1. Database Schema Design\n"
      ],
      "metadata": {
        "id": "h7lHRTPWgoa9"
      }
    },
    {
      "cell_type": "code",
      "source": [
        "class ElectionDatabase:\n",
        "    def __init__(self):\n",
        "        self.candidates = {}\n",
        "        self.contributions = {}\n",
        "        self.promotions = {}\n",
        "\n",
        "    # Adding candidate to the Candidates table\n",
        "    def add_candidate(self, candidate_id, name, party, district):\n",
        "        self.candidates[candidate_id] = {'Name': name, 'Party': party, 'District': district}\n",
        "\n",
        "    # Adding contribution to the Contributions table\n",
        "    def add_contribution(self, contribution_id, candidate_id, amount, date, contributor_name):\n",
        "        if candidate_id not in self.contributions:\n",
        "            self.contributions[candidate_id] = []\n",
        "        self.contributions[candidate_id].append({'ContributionID': contribution_id,\n",
        "                                                 'Amount': amount,\n",
        "                                                 'Date': date,\n",
        "                                                 'ContributorName': contributor_name})\n",
        "\n",
        "    # Adding promotion to the Promotions table\n",
        "    def add_promotion(self, promotion_id, candidate_id, type_, cost, start_date, end_date):\n",
        "        if candidate_id not in self.promotions:\n",
        "            self.promotions[candidate_id] = []\n",
        "        self.promotions[candidate_id].append({'PromotionID': promotion_id,\n",
        "                                              'Type': type_,\n",
        "                                              'Cost': cost,\n",
        "                                              'StartDate': start_date,\n",
        "                                              'EndDate': end_date})\n",
        "\n",
        "    # Getting candidate information\n",
        "    def get_candidate_info(self, candidate_id):\n",
        "        return self.candidates.get(candidate_id)\n",
        "\n",
        "    # Getting contributions for a candidate\n",
        "    def get_candidate_contributions(self, candidate_id):\n",
        "        return self.contributions.get(candidate_id, [])\n",
        "\n",
        "    # Getting promotions for a candidate\n",
        "    def get_candidate_promotions(self, candidate_id):\n",
        "        return self.promotions.get(candidate_id, [])\n",
        "\n",
        "\n",
        "# Example usage\n",
        "election_db = ElectionDatabase()\n",
        "\n",
        "# Adding candidates\n",
        "election_db.add_candidate(1, 'Rohan Samuel', 'Democratic', 'District A')\n",
        "election_db.add_candidate(2, 'Dishita Sood', 'Republican', 'District B')\n",
        "\n",
        "# Adding contributions\n",
        "election_db.add_contribution(101, 1, 1000, '2024-04-20', 'Arpita')\n",
        "election_db.add_contribution(102, 2, 1500, '2024-04-21', 'Rajesh')\n",
        "election_db.add_contribution(103, 1, 800, '2024-04-22', 'Dong')\n",
        "\n",
        "# Adding promotions\n",
        "election_db.add_promotion(201, 1, 'Social Media', 500, '2024-04-20', '2024-04-30')\n",
        "election_db.add_promotion(202, 2, 'TV', 2000, '2024-04-21', '2024-04-25')\n",
        "\n",
        "# Getting candidate information\n",
        "print(\"Candidate 1 Info:\", election_db.get_candidate_info(1))\n",
        "\n",
        "\n",
        "# Getting candidate information\n",
        "print(\"Candidate 2 Info:\", election_db.get_candidate_info(2))\n",
        "\n",
        "\n",
        "# Getting contributions for candidate 1\n",
        "print(\"Contributions for Candidate 1:\", election_db.get_candidate_contributions(1))\n",
        "\n",
        "# Getting promotions for candidate 2\n",
        "print(\"Promotions for Candidate 2:\", election_db.get_candidate_promotions(2))\n"
      ],
      "metadata": {
        "id": "NEwsG5Fdes7o",
        "outputId": "809ed176-22ed-486c-f3b9-6df20eb8b376",
        "colab": {
          "base_uri": "https://localhost:8080/"
        }
      },
      "execution_count": null,
      "outputs": [
        {
          "output_type": "stream",
          "name": "stdout",
          "text": [
            "Candidate 1 Info: {'Name': 'Rohan Samuel', 'Party': 'Democratic', 'District': 'District A'}\n",
            "Candidate 2 Info: {'Name': 'Dishita Sood', 'Party': 'Republican', 'District': 'District B'}\n",
            "Contributions for Candidate 1: [{'ContributionID': 101, 'Amount': 1000, 'Date': '2024-04-20', 'ContributorName': 'Arpita'}, {'ContributionID': 103, 'Amount': 800, 'Date': '2024-04-22', 'ContributorName': 'Dong'}]\n",
            "Promotions for Candidate 2: [{'PromotionID': 202, 'Type': 'TV', 'Cost': 2000, 'StartDate': '2024-04-21', 'EndDate': '2024-04-25'}]\n"
          ]
        }
      ]
    },
    {
      "cell_type": "markdown",
      "source": [
        "2. Data Manipulation Using Python Lists and Dictionaries"
      ],
      "metadata": {
        "id": "PJu1q4xggu4M"
      }
    },
    {
      "cell_type": "markdown",
      "source": [
        "A."
      ],
      "metadata": {
        "id": "oM4G2CCni5X8"
      }
    },
    {
      "cell_type": "code",
      "source": [
        "def aggregate_contributions(contributions):\n",
        "    \"\"\"Aggregate contributions by candidate.\"\"\"\n",
        "    aggregation = {}\n",
        "    for contribution in contributions:\n",
        "        candidate_id = contribution['candidate_id']\n",
        "        amount = contribution['amount']\n",
        "        if candidate_id in aggregation:\n",
        "            aggregation[candidate_id] += amount\n",
        "        else:\n",
        "            aggregation[candidate_id] = amount\n",
        "    return aggregation\n",
        "\n",
        "def prepare_candidate_data(name, party, district, election_id=None):\n",
        "    \"\"\"Prepare candidate data for insertion, including optional election_id.\"\"\"\n",
        "    data = {\n",
        "        'name': name,\n",
        "        'party': party,\n",
        "        'district': district\n",
        "    }\n",
        "    if election_id:\n",
        "        data['election_id'] = election_id\n",
        "    return data\n",
        "\n",
        "# Example usage\n",
        "contributions = [\n",
        "    {'candidate_id': 1, 'amount': 100},\n",
        "    {'candidate_id': 2, 'amount': 50},\n",
        "    {'candidate_id': 1, 'amount': 200},\n",
        "]\n",
        "\n",
        "aggregation = aggregate_contributions(contributions)\n",
        "print(aggregation)\n",
        "\n",
        "# Example usage for candidate data\n",
        "candidate_data = prepare_candidate_data(\"Rohan Samuel\", \"Democrat\", \"CA-12\")\n",
        "print(candidate_data)\n",
        "\n"
      ],
      "metadata": {
        "colab": {
          "base_uri": "https://localhost:8080/"
        },
        "id": "aWMxkecfh0xE",
        "outputId": "c1ba7281-d677-482f-9897-7d6299e2a125"
      },
      "execution_count": null,
      "outputs": [
        {
          "output_type": "stream",
          "name": "stdout",
          "text": [
            "{1: 300, 2: 50}\n",
            "{'name': 'Rohan Samuel', 'party': 'Democrat', 'district': 'CA-12'}\n"
          ]
        }
      ]
    },
    {
      "cell_type": "markdown",
      "source": [
        "b. Search Algorithms"
      ],
      "metadata": {
        "id": "PRQUi3B7i9cs"
      }
    },
    {
      "cell_type": "code",
      "source": [
        "def search_candidates():\n",
        "  \"\"\"Search for candidates by name (prompts user for input).\"\"\"\n",
        "  candidates = [\n",
        "      {'name': 'Rohan Samuel', 'party': 'Democrat', 'district': 'CA-12', 'name': 'Dishita Sood', 'party': 'Republican', 'district': 'CA-13'},\n",
        "\n",
        "  ]\n",
        "  search_term = input(\"Enter search term (candidate name): \")\n",
        "  search_results = [candidate for candidate in candidates if search_term.lower() in candidate['name'].lower()]\n",
        "\n",
        "  if not search_results:\n",
        "      print(f\"No candidates found matching '{search_term}'.\")\n",
        "  else:\n",
        "      print(\"Search results:\")\n",
        "      for candidate in search_results:\n",
        "          print(candidate)\n",
        "\n",
        "  return search_results\n",
        "\n",
        "# Calling the function to get search results\n",
        "search_results = search_candidates()\n"
      ],
      "metadata": {
        "colab": {
          "base_uri": "https://localhost:8080/"
        },
        "id": "nXOorT_zjCEC",
        "outputId": "eb2733c9-bec5-45ea-af7d-473736db5f58"
      },
      "execution_count": null,
      "outputs": [
        {
          "output_type": "stream",
          "name": "stdout",
          "text": [
            "Enter search term (candidate name): Dishita Sood\n",
            "Search results:\n",
            "{'name': 'Dishita Sood', 'party': 'Republican', 'district': 'CA-13'}\n"
          ]
        }
      ]
    },
    {
      "cell_type": "markdown",
      "source": [
        "Sorting Algorithm"
      ],
      "metadata": {
        "id": "nDrdb53FoSY8"
      }
    },
    {
      "cell_type": "code",
      "source": [
        "from datetime import datetime\n",
        "\n",
        "contributions = [\n",
        "    {'amount': 1000, 'date': '2024-04-15', 'candidate_id': 3},\n",
        "    {'amount': 750, 'date': '2024-04-18', 'candidate_id': 1},\n",
        "    {'amount': 200, 'date': '2024-04-17', 'candidate_id': 2},\n",
        "]\n",
        "\n",
        "contributions.sort(key=lambda x: datetime.strptime(x['date'], '%Y-%m-%d'))\n",
        "print(\"Sorted by date (ascending):\")\n",
        "for contribution in contributions:\n",
        "    print(contribution)\n",
        "\n",
        "# Sorting contributions by amount\n",
        "contributions.sort(key=lambda x: x['amount'], reverse=True)\n",
        "print(\"\\nSorted by amount (descending):\")\n",
        "for contribution in contributions:\n",
        "    print(contribution)\n"
      ],
      "metadata": {
        "colab": {
          "base_uri": "https://localhost:8080/"
        },
        "id": "uxWVh1Y2oTk2",
        "outputId": "da5969f3-a0ad-4dd9-961d-d80568ec6875"
      },
      "execution_count": null,
      "outputs": [
        {
          "output_type": "stream",
          "name": "stdout",
          "text": [
            "Sorted by date (ascending):\n",
            "{'amount': 1000, 'date': '2024-04-15', 'candidate_id': 3}\n",
            "{'amount': 200, 'date': '2024-04-17', 'candidate_id': 2}\n",
            "{'amount': 750, 'date': '2024-04-18', 'candidate_id': 1}\n",
            "\n",
            "Sorted by amount (descending):\n",
            "{'amount': 1000, 'date': '2024-04-15', 'candidate_id': 3}\n",
            "{'amount': 750, 'date': '2024-04-18', 'candidate_id': 1}\n",
            "{'amount': 200, 'date': '2024-04-17', 'candidate_id': 2}\n"
          ]
        }
      ]
    },
    {
      "cell_type": "markdown",
      "source": [],
      "metadata": {
        "id": "hkRMNhEyodei"
      }
    }
  ]
}